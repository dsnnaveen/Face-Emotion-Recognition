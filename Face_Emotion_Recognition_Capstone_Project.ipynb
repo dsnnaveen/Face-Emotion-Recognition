{
  "nbformat": 4,
  "nbformat_minor": 0,
  "metadata": {
    "colab": {
      "name": "Face Emotion Recognition - Capstone Project",
      "provenance": [],
      "mount_file_id": "1Cx5jhmMzh8R1V2pQ2h6E08uR9imQ8-PH",
      "authorship_tag": "ABX9TyOznhC1ItmiBP8o1nms5lR/",
      "include_colab_link": true
    },
    "kernelspec": {
      "name": "python3",
      "display_name": "Python 3"
    },
    "language_info": {
      "name": "python"
    }
  },
  "cells": [
    {
      "cell_type": "markdown",
      "metadata": {
        "id": "view-in-github",
        "colab_type": "text"
      },
      "source": [
        "<a href=\"https://colab.research.google.com/github/dsnnaveen/Face-Emotion-Recognition/blob/main/Face_Emotion_Recognition_Capstone_Project.ipynb\" target=\"_parent\"><img src=\"https://colab.research.google.com/assets/colab-badge.svg\" alt=\"Open In Colab\"/></a>"
      ]
    },
    {
      "cell_type": "markdown",
      "source": [
        "This project is face emotion recognisation for live class monitoring system\n",
        "\n",
        "This is an Individulal project done by \n",
        "DSN Naveen Kumar\n"
      ],
      "metadata": {
        "id": "0_0vfUud0eYy"
      }
    },
    {
      "cell_type": "code",
      "source": [
        "from google.colab import drive\n",
        "drive.mount('/content/drive')"
      ],
      "metadata": {
        "colab": {
          "base_uri": "https://localhost:8080/"
        },
        "id": "rCYE4nzt06ZD",
        "outputId": "515d8a6c-6138-4a5e-9d6f-dc1bccd823c4"
      },
      "execution_count": null,
      "outputs": [
        {
          "output_type": "stream",
          "name": "stdout",
          "text": [
            "Drive already mounted at /content/drive; to attempt to forcibly remount, call drive.mount(\"/content/drive\", force_remount=True).\n"
          ]
        }
      ]
    },
    {
      "cell_type": "markdown",
      "source": [
        "#Project Indroduction\n",
        "The Indian education landscape has been undergoing rapid changes for the past 10 years owing to the advancement of web-based learning services, specifically, eLearning platforms.\n",
        "\n",
        "Global E-learning is estimated to witness an 8X over the next 5 years to reach USD 2B in 2021. India is expected to grow with a CAGR of 44% crossing the 10M users mark in 2021. Although the market is growing on a rapid scale, there are major challenges associated with digital learning when compared with brick and mortar classrooms.\n",
        "\n",
        "One of many challenges is how to ensure quality learning for students. Digital platforms might overpower physical classrooms in terms of content quality but when it comes to understanding whether students are able to grasp the content in a live class scenario is yet an open-end challenge.\n",
        "\n",
        "In a physical classroom during a lecturing teacher can see the faces and assess the emotion of the class and tune their lecture accordingly, whether he is going fast or slow. He can identify students who need special attention.\n",
        "\n",
        "Digital classrooms are conducted via video telephony software program (exZoom) where it’s not possible for medium scale class (25-50) to see all students and access the mood. Because of this drawback, students are not focusing on content due to lack of surveillance.\n",
        "\n",
        "While digital platforms have limitations in terms of physical surveillance but it comes with the power of data and machines which can work for you. It provides data in the form of video, audio, and texts which can be analysed using deep learning algorithms.\n",
        "\n",
        "Deep learning backed system not only solves the surveillance issue, but it also removes the human bias from the system, and all information is no longer in the teacher’s brain rather translated in numbers that can be analysed and tracked."
      ],
      "metadata": {
        "id": "79ry28s70-WC"
      }
    },
    {
      "cell_type": "code",
      "source": [
        "# Getting the Data-Set from dropbox\n",
        "!wget https://www.dropbox.com/s/si11cws2pyho1bp/archive.zip"
      ],
      "metadata": {
        "colab": {
          "base_uri": "https://localhost:8080/"
        },
        "id": "PNjw8H0w1Jjc",
        "outputId": "d530fae8-653f-4185-abb4-bd2f222538f4"
      },
      "execution_count": null,
      "outputs": [
        {
          "output_type": "stream",
          "name": "stdout",
          "text": [
            "--2022-05-08 13:21:24--  https://www.dropbox.com/s/si11cws2pyho1bp/archive.zip\n",
            "Resolving www.dropbox.com (www.dropbox.com)... 162.125.5.18, 2620:100:601d:18::a27d:512\n",
            "Connecting to www.dropbox.com (www.dropbox.com)|162.125.5.18|:443... connected.\n",
            "HTTP request sent, awaiting response... 301 Moved Permanently\n",
            "Location: /s/raw/si11cws2pyho1bp/archive.zip [following]\n",
            "--2022-05-08 13:21:25--  https://www.dropbox.com/s/raw/si11cws2pyho1bp/archive.zip\n",
            "Reusing existing connection to www.dropbox.com:443.\n",
            "HTTP request sent, awaiting response... 302 Found\n",
            "Location: https://uc9676f0b006e557282508b4ea2c.dl.dropboxusercontent.com/cd/0/inline/Bk4s1zjpsYuHlCaZHO6apDqFcR8j_zpXg1ZYPdRIfw9bW5vuHtj0ktQDuLhzmi4cPbGaeLfT7QHkG06RGi0HiNv2unmiAd_ltzt_vtadCNOG5rTtiTWeX6EwXbCAsZvy24jPFwr-BBif8DbGldB_oi9Re6uihOtooZIJPtphCkRoTg/file# [following]\n",
            "--2022-05-08 13:21:25--  https://uc9676f0b006e557282508b4ea2c.dl.dropboxusercontent.com/cd/0/inline/Bk4s1zjpsYuHlCaZHO6apDqFcR8j_zpXg1ZYPdRIfw9bW5vuHtj0ktQDuLhzmi4cPbGaeLfT7QHkG06RGi0HiNv2unmiAd_ltzt_vtadCNOG5rTtiTWeX6EwXbCAsZvy24jPFwr-BBif8DbGldB_oi9Re6uihOtooZIJPtphCkRoTg/file\n",
            "Resolving uc9676f0b006e557282508b4ea2c.dl.dropboxusercontent.com (uc9676f0b006e557282508b4ea2c.dl.dropboxusercontent.com)... 162.125.5.15, 2620:100:601d:15::a27d:50f\n",
            "Connecting to uc9676f0b006e557282508b4ea2c.dl.dropboxusercontent.com (uc9676f0b006e557282508b4ea2c.dl.dropboxusercontent.com)|162.125.5.15|:443... connected.\n",
            "HTTP request sent, awaiting response... 302 Found\n",
            "Location: /cd/0/inline2/Bk5d91-EWrttc4_hPav8aBSsELpw5hQG02MNE12Q4lVFIoYa9TAuX6ckp5Ymn-3PC82zBVBPjXCq4QxFuyo_YzNPQZxb3k5iF0fjW7QMsjG-TKdF01yj03LW-kSg1MXnKzw5327mJzUWtueiP-jruU8MLETUKyNi2TeBPZi_6IrgixEM6-BkLH1rrvKKp4row0FWtQcypyekdXBocJtQLcGqcJphToFmK89Z0lUaiUgXug_-LBDmSiHt6LOVqc2HhJA6NPo2gyIxUFmB6lYw804-7CqJcPfLg3h2qRD2RLBVBijVu2UmjXAgPWR7krMKmm8pqgAIicpJcY8nI04kk8I2J5JlbtKu8ojRjw_T6hT7X6r5Cnxb2ouLpMyGFmS6i6aBbb8fB9t3xXOkjRQ0rNH9uDYQAW_p1-kZyNKWvHxs3Q/file [following]\n",
            "--2022-05-08 13:21:26--  https://uc9676f0b006e557282508b4ea2c.dl.dropboxusercontent.com/cd/0/inline2/Bk5d91-EWrttc4_hPav8aBSsELpw5hQG02MNE12Q4lVFIoYa9TAuX6ckp5Ymn-3PC82zBVBPjXCq4QxFuyo_YzNPQZxb3k5iF0fjW7QMsjG-TKdF01yj03LW-kSg1MXnKzw5327mJzUWtueiP-jruU8MLETUKyNi2TeBPZi_6IrgixEM6-BkLH1rrvKKp4row0FWtQcypyekdXBocJtQLcGqcJphToFmK89Z0lUaiUgXug_-LBDmSiHt6LOVqc2HhJA6NPo2gyIxUFmB6lYw804-7CqJcPfLg3h2qRD2RLBVBijVu2UmjXAgPWR7krMKmm8pqgAIicpJcY8nI04kk8I2J5JlbtKu8ojRjw_T6hT7X6r5Cnxb2ouLpMyGFmS6i6aBbb8fB9t3xXOkjRQ0rNH9uDYQAW_p1-kZyNKWvHxs3Q/file\n",
            "Reusing existing connection to uc9676f0b006e557282508b4ea2c.dl.dropboxusercontent.com:443.\n",
            "HTTP request sent, awaiting response... 200 OK\n",
            "Length: 63252113 (60M) [application/zip]\n",
            "Saving to: ‘archive.zip’\n",
            "\n",
            "archive.zip         100%[===================>]  60.32M  57.8MB/s    in 1.0s    \n",
            "\n",
            "2022-05-08 13:21:27 (57.8 MB/s) - ‘archive.zip’ saved [63252113/63252113]\n",
            "\n"
          ]
        }
      ]
    },
    {
      "cell_type": "code",
      "source": [
        "# Unzipping the dataset\n",
        "!unzip  -q \"/content/archive.zip\" "
      ],
      "metadata": {
        "id": "UAxNQKDl1OjP"
      },
      "execution_count": null,
      "outputs": []
    },
    {
      "cell_type": "code",
      "source": [
        ""
      ],
      "metadata": {
        "id": "5vtBx7su1TTu"
      },
      "execution_count": null,
      "outputs": []
    }
  ]
}