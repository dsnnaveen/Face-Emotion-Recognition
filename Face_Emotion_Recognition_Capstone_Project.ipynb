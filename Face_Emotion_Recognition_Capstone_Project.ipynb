{
  "nbformat": 4,
  "nbformat_minor": 0,
  "metadata": {
    "colab": {
      "name": "Face Emotion Recognition - Capstone Project",
      "provenance": [],
      "mount_file_id": "1Cx5jhmMzh8R1V2pQ2h6E08uR9imQ8-PH",
      "authorship_tag": "ABX9TyMbY4KY/IA6Gc2XiphGVMWD",
      "include_colab_link": true
    },
    "kernelspec": {
      "name": "python3",
      "display_name": "Python 3"
    },
    "language_info": {
      "name": "python"
    },
    "accelerator": "GPU"
  },
  "cells": [
    {
      "cell_type": "markdown",
      "metadata": {
        "id": "view-in-github",
        "colab_type": "text"
      },
      "source": [
        "<a href=\"https://colab.research.google.com/github/dsnnaveen/Face-Emotion-Recognition/blob/main/Face_Emotion_Recognition_Capstone_Project.ipynb\" target=\"_parent\"><img src=\"https://colab.research.google.com/assets/colab-badge.svg\" alt=\"Open In Colab\"/></a>"
      ]
    },
    {
      "cell_type": "markdown",
      "source": [
        "This project is face emotion recognisation for live class monitoring system\n",
        "\n",
        "This is an Individulal project done by \n",
        "DSN Naveen Kumar\n"
      ],
      "metadata": {
        "id": "0_0vfUud0eYy"
      }
    },
    {
      "cell_type": "code",
      "source": [
        "from google.colab import drive\n",
        "drive.mount('/content/drive')"
      ],
      "metadata": {
        "colab": {
          "base_uri": "https://localhost:8080/"
        },
        "id": "rCYE4nzt06ZD",
        "outputId": "fd7b5dcf-874f-48a0-8076-e8f14aaa125c"
      },
      "execution_count": 1,
      "outputs": [
        {
          "output_type": "stream",
          "name": "stdout",
          "text": [
            "Drive already mounted at /content/drive; to attempt to forcibly remount, call drive.mount(\"/content/drive\", force_remount=True).\n"
          ]
        }
      ]
    },
    {
      "cell_type": "markdown",
      "source": [
        "#Project Indroduction\n",
        "The Indian education landscape has been undergoing rapid changes for the past 10 years owing to the advancement of web-based learning services, specifically, eLearning platforms.\n",
        "\n",
        "Global E-learning is estimated to witness an 8X over the next 5 years to reach USD 2B in 2021. India is expected to grow with a CAGR of 44% crossing the 10M users mark in 2021. Although the market is growing on a rapid scale, there are major challenges associated with digital learning when compared with brick and mortar classrooms.\n",
        "\n",
        "One of many challenges is how to ensure quality learning for students. Digital platforms might overpower physical classrooms in terms of content quality but when it comes to understanding whether students are able to grasp the content in a live class scenario is yet an open-end challenge.\n",
        "\n",
        "In a physical classroom during a lecturing teacher can see the faces and assess the emotion of the class and tune their lecture accordingly, whether he is going fast or slow. He can identify students who need special attention.\n",
        "\n",
        "Digital classrooms are conducted via video telephony software program (exZoom) where it’s not possible for medium scale class (25-50) to see all students and access the mood. Because of this drawback, students are not focusing on content due to lack of surveillance.\n",
        "\n",
        "While digital platforms have limitations in terms of physical surveillance but it comes with the power of data and machines which can work for you. It provides data in the form of video, audio, and texts which can be analysed using deep learning algorithms.\n",
        "\n",
        "Deep learning backed system not only solves the surveillance issue, but it also removes the human bias from the system, and all information is no longer in the teacher’s brain rather translated in numbers that can be analysed and tracked."
      ],
      "metadata": {
        "id": "79ry28s70-WC"
      }
    },
    {
      "cell_type": "code",
      "source": [
        "# Getting the Data-Set from dropbox\n",
        "!wget https://www.dropbox.com/s/si11cws2pyho1bp/archive.zip"
      ],
      "metadata": {
        "colab": {
          "base_uri": "https://localhost:8080/"
        },
        "id": "PNjw8H0w1Jjc",
        "outputId": "12f61b34-a3ed-4451-b86b-6680065a9a9d"
      },
      "execution_count": 2,
      "outputs": [
        {
          "output_type": "stream",
          "name": "stdout",
          "text": [
            "--2022-05-09 06:31:48--  https://www.dropbox.com/s/si11cws2pyho1bp/archive.zip\n",
            "Resolving www.dropbox.com (www.dropbox.com)... 162.125.81.18, 2620:100:6017:18::a27d:212\n",
            "Connecting to www.dropbox.com (www.dropbox.com)|162.125.81.18|:443... connected.\n",
            "HTTP request sent, awaiting response... 301 Moved Permanently\n",
            "Location: /s/raw/si11cws2pyho1bp/archive.zip [following]\n",
            "--2022-05-09 06:31:49--  https://www.dropbox.com/s/raw/si11cws2pyho1bp/archive.zip\n",
            "Reusing existing connection to www.dropbox.com:443.\n",
            "HTTP request sent, awaiting response... 302 Found\n",
            "Location: https://ucd89b2969fc7fbc80ed213fc219.dl.dropboxusercontent.com/cd/0/inline/Bk6mnCGXW0yaLJ6G1wyw1hN739MyuZJ4npwUl3gpkhjYB8H8nf_pJn-1_YK3NtOwi0ALZ5WklahRvBjP_UoW0shvAdMHmssGLsFrqCDM4xULwyCR4vCL6s2axu4e2PS83ABn2MFaNZuPqUbAv_Hfo_TbLX_5JxAlaO1XhYHpaqzs7Q/file# [following]\n",
            "--2022-05-09 06:31:49--  https://ucd89b2969fc7fbc80ed213fc219.dl.dropboxusercontent.com/cd/0/inline/Bk6mnCGXW0yaLJ6G1wyw1hN739MyuZJ4npwUl3gpkhjYB8H8nf_pJn-1_YK3NtOwi0ALZ5WklahRvBjP_UoW0shvAdMHmssGLsFrqCDM4xULwyCR4vCL6s2axu4e2PS83ABn2MFaNZuPqUbAv_Hfo_TbLX_5JxAlaO1XhYHpaqzs7Q/file\n",
            "Resolving ucd89b2969fc7fbc80ed213fc219.dl.dropboxusercontent.com (ucd89b2969fc7fbc80ed213fc219.dl.dropboxusercontent.com)... 162.125.81.15, 2620:100:6017:15::a27d:20f\n",
            "Connecting to ucd89b2969fc7fbc80ed213fc219.dl.dropboxusercontent.com (ucd89b2969fc7fbc80ed213fc219.dl.dropboxusercontent.com)|162.125.81.15|:443... connected.\n",
            "HTTP request sent, awaiting response... 302 Found\n",
            "Location: /cd/0/inline2/Bk5S6gMMRubwrEO4Qv3IMyUl-cL6gaa5_X0pLNAMn-R64woDdxBv9vndI1e7dQwv0B0CSRN8P8STVetWPEPWNMrdKGLFAVgu28CYbtcu3Qd0Yl9MoGX7rEmGSdd_KYx47UEQJujOLaq0b9cM_QIW4XsIFdKHf94GzN0GuVnwweT9WbkRF0s3MSRwESMbONFRuZGvw_zIm4kjY3dypU2tF76W7AUC3dljUYg2oXBdGAeblAMaBrgFISw9lw89B8m40ddLCfsFJNnAIcUugR8TSepGiSuB6hpmEh4aPAg26Ac7l0y1DRN9qc-mpW8hYxeb4uYgEahVZ2zDzXL6KhRoKhLnlowfoiKAne9f7zp1QjxajEAymtYxIP_YhcnvB5dxkZzlfxbc3eKSmNscCOL1F0WSUDnOhxgea6sGSoM0e4TW5g/file [following]\n",
            "--2022-05-09 06:31:50--  https://ucd89b2969fc7fbc80ed213fc219.dl.dropboxusercontent.com/cd/0/inline2/Bk5S6gMMRubwrEO4Qv3IMyUl-cL6gaa5_X0pLNAMn-R64woDdxBv9vndI1e7dQwv0B0CSRN8P8STVetWPEPWNMrdKGLFAVgu28CYbtcu3Qd0Yl9MoGX7rEmGSdd_KYx47UEQJujOLaq0b9cM_QIW4XsIFdKHf94GzN0GuVnwweT9WbkRF0s3MSRwESMbONFRuZGvw_zIm4kjY3dypU2tF76W7AUC3dljUYg2oXBdGAeblAMaBrgFISw9lw89B8m40ddLCfsFJNnAIcUugR8TSepGiSuB6hpmEh4aPAg26Ac7l0y1DRN9qc-mpW8hYxeb4uYgEahVZ2zDzXL6KhRoKhLnlowfoiKAne9f7zp1QjxajEAymtYxIP_YhcnvB5dxkZzlfxbc3eKSmNscCOL1F0WSUDnOhxgea6sGSoM0e4TW5g/file\n",
            "Reusing existing connection to ucd89b2969fc7fbc80ed213fc219.dl.dropboxusercontent.com:443.\n",
            "HTTP request sent, awaiting response... 200 OK\n",
            "Length: 63252113 (60M) [application/zip]\n",
            "Saving to: ‘archive.zip’\n",
            "\n",
            "archive.zip         100%[===================>]  60.32M  9.10MB/s    in 6.8s    \n",
            "\n",
            "2022-05-09 06:31:57 (8.87 MB/s) - ‘archive.zip’ saved [63252113/63252113]\n",
            "\n"
          ]
        }
      ]
    },
    {
      "cell_type": "code",
      "source": [
        "# Unzipping the dataset\n",
        "!unzip  -q \"/content/archive.zip\" "
      ],
      "metadata": {
        "id": "UAxNQKDl1OjP"
      },
      "execution_count": 3,
      "outputs": []
    },
    {
      "cell_type": "code",
      "source": [
        "# Importing Neccessary Libraries\n",
        "import tensorflow as tf\n",
        "from tensorflow import keras\n",
        "from tensorflow.keras import layers\n",
        "import cv2\n",
        "import os\n",
        "import matplotlib.pyplot as plt\n",
        "import numpy as np\n",
        "from pathlib import Path\n",
        "from sklearn.preprocessing import MinMaxScaler"
      ],
      "metadata": {
        "id": "5vtBx7su1TTu"
      },
      "execution_count": 4,
      "outputs": []
    },
    {
      "cell_type": "code",
      "source": [
        "# locating path and creating classes from dataset\n",
        "trainpath=Path(\"/content/train\")\n",
        "Classes=[str(list(trainpath.glob(\"*\"))[i]).split('/')[-1] for i in range(len(list(trainpath.glob(\"*\"))))]"
      ],
      "metadata": {
        "id": "agYSgs_m15P8"
      },
      "execution_count": 5,
      "outputs": []
    },
    {
      "cell_type": "code",
      "source": [
        "# Reading sample image from dataset\n",
        "img_array=cv2.imread('/content/train/sad/Training_49187727.jpg')"
      ],
      "metadata": {
        "id": "3XHeDBZ218k5"
      },
      "execution_count": 6,
      "outputs": []
    },
    {
      "cell_type": "code",
      "source": [
        "# Reading sample image from dataset\n",
        "img_array=cv2.imread('/content/train/sad/Training_49187727.jpg')"
      ],
      "metadata": {
        "id": "m9QqYPxn2Hav"
      },
      "execution_count": 7,
      "outputs": []
    },
    {
      "cell_type": "code",
      "source": [
        "# displaying the image\n",
        "plt.imshow(img_array)\n",
        "plt.show()"
      ],
      "metadata": {
        "colab": {
          "base_uri": "https://localhost:8080/",
          "height": 267
        },
        "id": "6bqDiZPm2PG9",
        "outputId": "53239b35-bce2-4ec5-89a9-259f8b6312b5"
      },
      "execution_count": 8,
      "outputs": [
        {
          "output_type": "display_data",
          "data": {
            "text/plain": [
              "<Figure size 432x288 with 1 Axes>"
            ],
            "image/png": "[encoded data removed]"
          },
          "metadata": {
            "needs_background": "light"
          }
        }
      ]
    },
    {
      "cell_type": "code",
      "source": [
        "# resizing the image so to make compatible with input of mobilenetv2 model\n",
        "img_size=224\n",
        "new_array=cv2.resize(img_array,(img_size,img_size))\n",
        "plt.imshow(cv2.cvtColor(new_array,cv2.COLOR_BGR2RGB))\n",
        "plt.show()"
      ],
      "metadata": {
        "colab": {
          "base_uri": "https://localhost:8080/",
          "height": 269
        },
        "id": "L47zG5TJ2Pdx",
        "outputId": "12367847-0a08-4c44-d1a9-43134dddf418"
      },
      "execution_count": 9,
      "outputs": [
        {
          "output_type": "display_data",
          "data": {
            "text/plain": [
              "<Figure size 432x288 with 1 Axes>"
            ],
            "image/png": "[encoded data removed]"
          },
          "metadata": {
            "needs_background": "light"
          }
        }
      ]
    },
    {
      "cell_type": "code",
      "source": [
        "# converting the path to string type\n",
        "pathlist=list(map(lambda x: str(x), list(trainpath.glob(\"*/*\"))))"
      ],
      "metadata": {
        "id": "ZSWKZLX-2Xkj"
      },
      "execution_count": 10,
      "outputs": []
    },
    {
      "cell_type": "code",
      "source": [
        "# loading the training data\n",
        "training_data=[]\n",
        "for path in pathlist:\n",
        "  img_array=cv2.imread(path)\n",
        "  new_array=cv2.resize(img_array,(img_size,img_size))\n",
        "  Class_label=Classes.index(path.split('/')[-2])\n",
        "  training_data.append([new_array,Class_label])"
      ],
      "metadata": {
        "id": "juazG6Pf2nHR"
      },
      "execution_count": 11,
      "outputs": []
    },
    {
      "cell_type": "code",
      "source": [
        "# shuffling the data\n",
        "import random\n",
        "random.shuffle(training_data)\n",
        "training_data=training_data[:5000]"
      ],
      "metadata": {
        "id": "K2afoj7s2qYy"
      },
      "execution_count": 12,
      "outputs": []
    },
    {
      "cell_type": "code",
      "source": [
        "ld=[]\n",
        "for i in range(len(training_data)):\n",
        "   ld.append(training_data[i][1])\n",
        "np.unique(ld,return_counts=True)"
      ],
      "metadata": {
        "id": "9n0VqjTKhPar",
        "outputId": "91d2f1a6-e17a-4ae7-9178-c8d727b37cf0",
        "colab": {
          "base_uri": "https://localhost:8080/"
        }
      },
      "execution_count": 13,
      "outputs": [
        {
          "output_type": "execute_result",
          "data": {
            "text/plain": [
              "(array([0, 1, 2, 3, 4, 5, 6]),\n",
              " array([ 818,  544, 1270,  892,  681,  727,   68]))"
            ]
          },
          "metadata": {},
          "execution_count": 13
        }
      ]
    },
    {
      "cell_type": "code",
      "source": [
        "# creating dependent and independent variable\n",
        "X=[]\n",
        "y=[]\n",
        "for feature, label in training_data:\n",
        "  X.append(feature)\n",
        "  y.append(label)"
      ],
      "metadata": {
        "id": "c7XCL794hRPZ"
      },
      "execution_count": 14,
      "outputs": []
    },
    {
      "cell_type": "code",
      "source": [
        "# normalizing the data\n",
        "X=np.array(X).reshape(-1,img_size,img_size,3)/255\n",
        "y=np.array(y)"
      ],
      "metadata": {
        "id": "3APCzhxEhT0y"
      },
      "execution_count": null,
      "outputs": []
    }
  ]
}